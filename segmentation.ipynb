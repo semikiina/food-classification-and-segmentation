{
  "nbformat": 4,
  "nbformat_minor": 0,
  "metadata": {
    "colab": {
      "provenance": [],
      "gpuType": "T4"
    },
    "kernelspec": {
      "name": "python3",
      "display_name": "Python 3"
    },
    "language_info": {
      "name": "python"
    },
    "accelerator": "GPU"
  },
  "cells": [
    {
      "cell_type": "code",
      "source": [
        "# Import the dataset\n",
        "from datasets import load_dataset\n",
        "\n",
        "ds = load_dataset(\"EduardoPacheco/FoodSeg103\")"
      ],
      "metadata": {
        "id": "tlOz4r84dfmF"
      },
      "execution_count": 36,
      "outputs": []
    },
    {
      "cell_type": "code",
      "source": [
        "from PIL import Image\n",
        "\n",
        "train, validation = ds[\"train\"], ds[\"validation\"]\n",
        "\n",
        "print(train[0]['image'])\n",
        "print(\"----------------- // -----------------\")\n",
        "print(train[0]['label'])"
      ],
      "metadata": {
        "colab": {
          "base_uri": "https://localhost:8080/"
        },
        "id": "hhXOFsNPen9i",
        "outputId": "1aa78bd3-39b6-4400-d35a-c80a6ab0ff2a"
      },
      "execution_count": 37,
      "outputs": [
        {
          "output_type": "stream",
          "name": "stdout",
          "text": [
            "<PIL.JpegImagePlugin.JpegImageFile image mode=RGB size=512x384 at 0x7AD3919CFE60>\n",
            "----------------- // -----------------\n",
            "<PIL.PngImagePlugin.PngImageFile image mode=L size=512x384 at 0x7AD3919CEF30>\n"
          ]
        }
      ]
    },
    {
      "cell_type": "code",
      "source": [
        "import numpy as np\n",
        "\n",
        "image = np.array(train[0][\"image\"])\n",
        "mask = np.array(train[0][\"label\"])\n",
        "\n",
        "print(\"Image shape:\", image.shape, image.dtype)\n",
        "print(\"Mask shape:\", mask.shape, mask.dtype)\n",
        "print(\"Unique mask values:\", np.unique(mask))\n"
      ],
      "metadata": {
        "colab": {
          "base_uri": "https://localhost:8080/"
        },
        "id": "gmS-bgRLfGTp",
        "outputId": "b0e4c3e3-c133-4f5b-ac73-adb68d08651e"
      },
      "execution_count": 38,
      "outputs": [
        {
          "output_type": "stream",
          "name": "stdout",
          "text": [
            "Image shape: (384, 512, 3) uint8\n",
            "Mask shape: (384, 512) uint8\n",
            "Unique mask values: [ 0 48 66 90]\n"
          ]
        }
      ]
    },
    {
      "cell_type": "code",
      "source": [
        "small_train = ds[\"train\"].select(range(1000))\n",
        "small_val   = ds[\"validation\"].select(range(200))\n",
        "\n",
        "small_train.set_format(\"numpy\", columns=[\"image\", \"label\"])\n",
        "small_val.set_format(\"numpy\", columns=[\"image\", \"label\"])\n",
        "\n"
      ],
      "metadata": {
        "id": "mbt2nFg4fIcd"
      },
      "execution_count": 39,
      "outputs": []
    },
    {
      "cell_type": "code",
      "source": [
        "import tensorflow as tf\n",
        "\n",
        "IMG_SIZE = 224\n",
        "\n",
        "def preprocess(image, mask):\n",
        "    image = tf.cast(image, tf.float32) / 255.0\n",
        "    mask = tf.cast(mask, tf.int32)\n",
        "    mask = mask[..., tf.newaxis]\n",
        "\n",
        "    image = tf.image.resize(image, (IMG_SIZE, IMG_SIZE))\n",
        "    mask  = tf.image.resize(mask, (IMG_SIZE, IMG_SIZE), method=\"nearest\")\n",
        "    print(\"Image shape:\", image.shape, image.dtype)\n",
        "    print(\"Mask shape:\", mask.shape, mask.dtype)\n",
        "\n",
        "    return image, mask\n"
      ],
      "metadata": {
        "id": "u7R3Vjocf8Cx"
      },
      "execution_count": 40,
      "outputs": []
    },
    {
      "cell_type": "code",
      "source": [
        "img, msk = preprocess(ds[\"train\"][0][\"image\"], ds[\"train\"][0][\"label\"])\n",
        "\n",
        "print(\"Image:\", img.shape, img.dtype, tf.reduce_min(img).numpy(), tf.reduce_max(img).numpy())\n",
        "print(\"Mask:\", msk.shape, msk.dtype, tf.unique(tf.reshape(msk, [-1]))[0].numpy())\n",
        "\n"
      ],
      "metadata": {
        "colab": {
          "base_uri": "https://localhost:8080/"
        },
        "id": "Fn-gyCRDVocx",
        "outputId": "b6cf5627-7ccf-4ff9-f511-170e0b1b4ffd"
      },
      "execution_count": 41,
      "outputs": [
        {
          "output_type": "stream",
          "name": "stdout",
          "text": [
            "Image shape: (224, 224, 3) <dtype: 'float32'>\n",
            "Mask shape: (224, 224, 1) <dtype: 'int32'>\n",
            "Image: (224, 224, 3) <dtype: 'float32'> 0.0 1.0\n",
            "Mask: (224, 224, 1) <dtype: 'int32'> [90  0 66 48]\n"
          ]
        }
      ]
    },
    {
      "cell_type": "code",
      "source": [
        "BATCH_SIZE = 8\n",
        "\n",
        "train_ds = train.to_tf_dataset(\n",
        "    columns=\"image\",\n",
        "    label_cols=\"label\",\n",
        "    shuffle=True,\n",
        "    batch_size=None\n",
        ")\n",
        "\n",
        "val_ds = validation.to_tf_dataset(\n",
        "    columns=\"image\",\n",
        "    label_cols=\"label\",\n",
        "    shuffle=False,\n",
        "    batch_size=None\n",
        ")\n",
        "\n",
        "train_ds = train_ds.map(preprocess).batch(BATCH_SIZE).prefetch(tf.data.AUTOTUNE)\n",
        "val_ds = val_ds.map(preprocess).batch(BATCH_SIZE).prefetch(tf.data.AUTOTUNE)\n"
      ],
      "metadata": {
        "colab": {
          "base_uri": "https://localhost:8080/"
        },
        "id": "oPlV0J7GWN3b",
        "outputId": "f3c9cc15-ef00-42a6-8be6-b667a21fc78b"
      },
      "execution_count": 48,
      "outputs": [
        {
          "output_type": "stream",
          "name": "stdout",
          "text": [
            "Image shape: (224, 224, 3) <dtype: 'float32'>\n",
            "Mask shape: (224, 224, 1) <dtype: 'int32'>\n",
            "Image shape: (224, 224, 3) <dtype: 'float32'>\n",
            "Mask shape: (224, 224, 1) <dtype: 'int32'>\n"
          ]
        }
      ]
    },
    {
      "cell_type": "code",
      "source": [
        "import tensorflow as tf\n",
        "import matplotlib.pyplot as plt\n",
        "\n",
        "heights = []\n",
        "widths = []\n",
        "mask_heights = []\n",
        "mask_widths = []\n",
        "\n",
        "for i in range(100):   # just first 100 samples to test quickly\n",
        "    img = ds[\"train\"][i][\"image\"]\n",
        "    msk = ds[\"train\"][i][\"label\"]\n",
        "\n",
        "    heights.append(img.size[1])   # PIL: size = (width, height)\n",
        "    widths.append(img.size[0])\n",
        "    mask_heights.append(msk.size[1])\n",
        "    mask_widths.append(msk.size[0])\n",
        "\n",
        "print(\"Unique image heights:\", set(heights))\n",
        "print(\"Unique image widths:\", set(widths))\n",
        "print(\"Unique mask heights:\", set(mask_heights))\n",
        "print(\"Unique mask widths:\", set(mask_widths))\n"
      ],
      "metadata": {
        "colab": {
          "base_uri": "https://localhost:8080/"
        },
        "id": "EgkrEfwc7R-q",
        "outputId": "8fc33428-8e52-4a75-dd43-5842889f5da5"
      },
      "execution_count": 49,
      "outputs": [
        {
          "output_type": "stream",
          "name": "stdout",
          "text": [
            "Unique image heights: {384, 2048, 256, 386, 512, 2560, 518, 1920, 392, 1537, 396, 2448, 273, 2706, 1427, 1936, 405, 1552, 534, 413, 1054, 800, 683, 428, 429, 1840, 816, 307, 435, 1664, 317, 3264, 1358, 338, 340, 341, 473, 218, 352, 356, 750, 366, 369, 250, 382, 383}\n",
            "Unique image widths: {512, 1536, 1664, 256, 1024, 384, 642, 1920, 2048, 1280, 394, 534, 410, 2592, 550, 3264, 1600, 2114, 720, 2912, 612, 1000, 360}\n",
            "Unique mask heights: {384, 2048, 256, 386, 512, 2560, 518, 1920, 392, 1537, 396, 2448, 273, 2706, 1427, 1936, 405, 1552, 534, 413, 1054, 800, 683, 428, 429, 1840, 816, 307, 435, 1664, 317, 3264, 1358, 338, 340, 341, 473, 218, 352, 356, 750, 366, 369, 250, 382, 383}\n",
            "Unique mask widths: {512, 1536, 1664, 256, 1024, 384, 642, 1920, 2048, 1280, 394, 534, 410, 2592, 550, 3264, 1600, 2114, 720, 2912, 612, 1000, 360}\n"
          ]
        }
      ]
    }
  ]
}